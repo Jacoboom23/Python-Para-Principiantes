{
  "nbformat": 4,
  "nbformat_minor": 0,
  "metadata": {
    "colab": {
      "provenance": []
    },
    "kernelspec": {
      "name": "python3",
      "display_name": "Python 3"
    },
    "language_info": {
      "name": "python"
    }
  },
  "cells": [
    {
      "cell_type": "markdown",
      "source": [
        "**Módulo math**"
      ],
      "metadata": {
        "id": "IPHB-LYPWoAf"
      }
    },
    {
      "cell_type": "code",
      "execution_count": null,
      "metadata": {
        "id": "tYY_dOvqWhwK"
      },
      "outputs": [],
      "source": [
        "import math\n",
        "\n",
        "print(math.sqrt(16))\n",
        "print(math.fabs(-8))"
      ]
    },
    {
      "cell_type": "markdown",
      "source": [
        "**Módulo random**"
      ],
      "metadata": {
        "id": "ruUzBAr2WrRe"
      }
    },
    {
      "cell_type": "code",
      "source": [
        "import random\n",
        "\n",
        "numAleatorio = random.randint(1, 10)\n",
        "print(numAleatorio)\n",
        "\n",
        "candidatos = [\"Jhair\", \"Harold\", \"Jeison\", \"Juan\"]\n",
        "print(random.choice(candidatos))"
      ],
      "metadata": {
        "id": "Rr5uze_FWtH2"
      },
      "execution_count": null,
      "outputs": []
    },
    {
      "cell_type": "markdown",
      "source": [
        "**PyPlot con función plot**"
      ],
      "metadata": {
        "id": "P5bZn8dqWu2H"
      }
    },
    {
      "cell_type": "code",
      "source": [
        "import matplotlib.pyplot as plt\n",
        "\n",
        "# x representa los años\n",
        "x = [2012, 2013, 2014, 2015, 2016, 2017]\n",
        "# y representa el dinero ahorrado\n",
        "y = [0, 50, 70, 70, 100, 246]\n",
        "\n",
        "plt.plot(x, y)\n",
        "plt.xlabel(\"Año\")\n",
        "plt.ylabel(\"Ahorro (dólares)\")\n",
        "plt.show()"
      ],
      "metadata": {
        "id": "n_x7HE_RWxEv"
      },
      "execution_count": null,
      "outputs": []
    },
    {
      "cell_type": "markdown",
      "source": [
        "**PyPlot con función bar**"
      ],
      "metadata": {
        "id": "tFWR1ce0Wy5P"
      }
    },
    {
      "cell_type": "code",
      "source": [
        "import matplotlib.pyplot as plt\n",
        "\n",
        "# x representa los años\n",
        "x = [2017, 2018, 2019, 2020, 2021]\n",
        "# y representa los terremotos\n",
        "y = [1566, 1808, 1637, 1433, 2206]\n",
        "\n",
        "plt.bar(x, y)\n",
        "plt.xlabel(\"Año\")\n",
        "plt.ylabel(\"Terremotos\")\n",
        "plt.show()"
      ],
      "metadata": {
        "id": "xCCnuLefW1JQ"
      },
      "execution_count": null,
      "outputs": []
    }
  ]
}