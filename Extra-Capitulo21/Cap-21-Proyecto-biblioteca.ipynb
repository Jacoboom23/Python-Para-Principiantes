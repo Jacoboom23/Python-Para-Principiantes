{
  "nbformat": 4,
  "nbformat_minor": 0,
  "metadata": {
    "colab": {
      "provenance": []
    },
    "kernelspec": {
      "name": "python3",
      "display_name": "Python 3"
    },
    "language_info": {
      "name": "python"
    }
  },
  "cells": [
    {
      "cell_type": "markdown",
      "source": [
        "**Proyecto Biblioteca (completo)**"
      ],
      "metadata": {
        "id": "WHYG1iuNNT-8"
      }
    },
    {
      "cell_type": "code",
      "execution_count": null,
      "metadata": {
        "id": "qSD0EW_HNJLr"
      },
      "outputs": [],
      "source": [
        "import random\n",
        "\n",
        "def mostrarLibros():\n",
        "  for libro in libros:\n",
        "    print(\"Nombre: \"+libro[\"nombre\"]+\" - Cant: \"+str(libro[\"cantidad\"]))\n",
        "\n",
        "def agregarLibro():\n",
        "  nombre = input(\"Ingrese el nombre: \")\n",
        "  cantidad = int(input(\"Ingrese la cantidad: \"))\n",
        "  nuevoLibro = {\"nombre\":nombre, \"cantidad\":cantidad}\n",
        "  libros.append(nuevoLibro)\n",
        "\n",
        "def eliminarLibro():\n",
        "  pos = int(input(\"Ingrese la posición a eliminar: \"))\n",
        "  if(pos >= 0 and pos < len(libros)):\n",
        "    libros.pop(pos)\n",
        "\n",
        "def mostrarLibrosDisponibles():\n",
        "  for libro in libros:\n",
        "    if(libro[\"cantidad\"] > 0):\n",
        "      print(\"Nombre: \"+libro[\"nombre\"]+\" - Cant: \"+str(libro[\"cantidad\"]))\n",
        "\n",
        "def cantidadLibrosDisponibles():\n",
        "  contador = 0\n",
        "  for libro in libros:\n",
        "    if(libro[\"cantidad\"] > 0):\n",
        "      contador = contador+1\n",
        "  print(\"Cantidad de libros disponibles: \"+str(contador))\n",
        "\n",
        "def mostrarLibrosPorLetraInicial():\n",
        "  letra = input(\"Ingrese la letra inicial: \")\n",
        "  for libro in libros:\n",
        "    if(libro[\"nombre\"][0].lower() == letra.lower()):\n",
        "      print(\"Nombre: \"+libro[\"nombre\"]+\" - Cant: \"+str(libro[\"cantidad\"]))\n",
        "\n",
        "def sugerirLibroAleatorio():\n",
        "  numAleatorio = random.randint(0, len(libros)-1)\n",
        "  libroAleatorio = libros[numAleatorio]\n",
        "  print(\"Nombre: \"+libroAleatorio[\"nombre\"]+\" - Cant: \"+str(libroAleatorio[\"cantidad\"]))\n",
        "\n",
        "libro1 = {\"nombre\":\"Duna\", \"cantidad\":0}\n",
        "libro2 = {\"nombre\":\"Interestelar\", \"cantidad\":4}\n",
        "libro3 = {\"nombre\":\"Tron\", \"cantidad\":5}\n",
        "libros = [libro1, libro2, libro3]\n",
        "\n",
        "while(True):\n",
        "  print(\"----Ingrese----\")\n",
        "  print(\"1) Para mostrar los libros\")\n",
        "  print(\"2) Para agregar un libro\")\n",
        "  print(\"3) Para eliminar un libro\")\n",
        "  print(\"4) Para mostrar los libros disponibles\")\n",
        "  print(\"5) Para mostrar la cantidad de libros disponibles\")\n",
        "  print(\"6) Para mostrar libros por una letra inicial\")\n",
        "  print(\"7) Para sugerir un libro aleatorio\")\n",
        "  print(\"0) Para salir\")\n",
        "  opcion = int(input())\n",
        "  if(opcion == 1):\n",
        "    mostrarLibros()\n",
        "  elif(opcion == 2):\n",
        "    agregarLibro()\n",
        "  elif(opcion == 3):\n",
        "    eliminarLibro()\n",
        "  elif(opcion == 4):\n",
        "    mostrarLibrosDisponibles()\n",
        "  elif(opcion == 5):\n",
        "    cantidadLibrosDisponibles()\n",
        "  elif(opcion == 6):\n",
        "    mostrarLibrosPorLetraInicial()\n",
        "  elif(opcion == 7):\n",
        "    sugerirLibroAleatorio()\n",
        "  elif(opcion == 0):\n",
        "    print(\"Feliz aprendizaje!!\")\n",
        "    break"
      ]
    }
  ]
}