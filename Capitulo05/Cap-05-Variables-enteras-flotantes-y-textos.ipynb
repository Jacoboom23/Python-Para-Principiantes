{
  "nbformat": 4,
  "nbformat_minor": 0,
  "metadata": {
    "colab": {
      "provenance": []
    },
    "kernelspec": {
      "name": "python3",
      "display_name": "Python 3"
    },
    "language_info": {
      "name": "python"
    }
  },
  "cells": [
    {
      "cell_type": "markdown",
      "source": [
        "**Definición de variable**"
      ],
      "metadata": {
        "id": "hjNbwFUjTRwm"
      }
    },
    {
      "cell_type": "code",
      "execution_count": null,
      "metadata": {
        "id": "ezOZWXsuS8ED"
      },
      "outputs": [],
      "source": [
        "edad = 17"
      ]
    },
    {
      "cell_type": "markdown",
      "source": [
        "**Tipos de variables**"
      ],
      "metadata": {
        "id": "vyjDfARPTYc9"
      }
    },
    {
      "cell_type": "code",
      "source": [
        "nombre = \"Maria\"\n",
        "edad = 17\n",
        "estatura = 1.61"
      ],
      "metadata": {
        "id": "6r9cHUFfTeJl"
      },
      "execution_count": null,
      "outputs": []
    },
    {
      "cell_type": "markdown",
      "source": [
        "**Impresión de variables**"
      ],
      "metadata": {
        "id": "BLiOdSPPThB9"
      }
    },
    {
      "cell_type": "code",
      "source": [
        "nombre = \"Maria\"\n",
        "edad = 17\n",
        "estatura = 1.61\n",
        "\n",
        "print(nombre)\n",
        "print(edad)\n",
        "print(estatura)"
      ],
      "metadata": {
        "id": "soLcps4MTh6_"
      },
      "execution_count": null,
      "outputs": []
    },
    {
      "cell_type": "markdown",
      "source": [
        "**Definición errónea de variable**"
      ],
      "metadata": {
        "id": "af1rOKy3TlGU"
      }
    },
    {
      "cell_type": "code",
      "source": [
        "edad = 17\n",
        "print(edadd)"
      ],
      "metadata": {
        "id": "ROB_GEqjTpJV"
      },
      "execution_count": null,
      "outputs": []
    },
    {
      "cell_type": "markdown",
      "source": [
        "**Modificando el valor de una variable**"
      ],
      "metadata": {
        "id": "dXxCIwOYTsUV"
      }
    },
    {
      "cell_type": "code",
      "source": [
        "precioProducto = 150\n",
        "print(precioProducto)\n",
        "precioProducto = 250\n",
        "print(precioProducto)"
      ],
      "metadata": {
        "id": "iF_pqnM-TtX0"
      },
      "execution_count": null,
      "outputs": []
    },
    {
      "cell_type": "markdown",
      "source": [
        "**Modificando el valor y el tipo de una variable**"
      ],
      "metadata": {
        "id": "CasP2ZUiTu9V"
      }
    },
    {
      "cell_type": "code",
      "source": [
        "precioProducto = 150\n",
        "print(precioProducto)\n",
        "precioProducto = 250.5\n",
        "print(precioProducto)"
      ],
      "metadata": {
        "id": "dyOwCmGPTxf9"
      },
      "execution_count": null,
      "outputs": []
    },
    {
      "cell_type": "markdown",
      "source": [
        "**Reutilizando variables para definir nuevas variables**"
      ],
      "metadata": {
        "id": "Ai_rtXomTzeV"
      }
    },
    {
      "cell_type": "code",
      "source": [
        "edadLuis = 10\n",
        "edadLaura = 20\n",
        "sumaEdades = edadLuis + edadLaura\n",
        "promedioEdades = sumaEdades/2\n",
        "print(promedioEdades)"
      ],
      "metadata": {
        "id": "JQ1D_FKiT0tO"
      },
      "execution_count": null,
      "outputs": []
    },
    {
      "cell_type": "markdown",
      "source": [
        "**Función type**"
      ],
      "metadata": {
        "id": "6-ELB8WsT27_"
      }
    },
    {
      "cell_type": "code",
      "source": [
        "precioProducto = 150\n",
        "print(type(precioProducto))\n",
        "precioProducto = 250.5\n",
        "print(type(precioProducto))"
      ],
      "metadata": {
        "id": "JF1YLtMaT5TJ"
      },
      "execution_count": null,
      "outputs": []
    },
    {
      "cell_type": "markdown",
      "source": [
        "**Comentarios en Python**"
      ],
      "metadata": {
        "id": "z1Xno6jlT59m"
      }
    },
    {
      "cell_type": "code",
      "source": [
        "# La siguiente línea representa el salario mensual de una persona\n",
        "salario = 1000\n",
        "\n",
        "\"\"\" Dividiremos entre 2 el salario, para repartirlo entre los integrantes\n",
        "de la familia y mostraremos el resultado por pantalla \"\"\"\n",
        "print(salario/2)"
      ],
      "metadata": {
        "id": "Li3QzJ3uT7bl"
      },
      "execution_count": null,
      "outputs": []
    },
    {
      "cell_type": "markdown",
      "source": [
        "**Ejercicio E5.1.**"
      ],
      "metadata": {
        "id": "cItOpD_l-ePj"
      }
    },
    {
      "cell_type": "code",
      "source": [
        "totalDeuda = 1450.7\n",
        "nombreProducto = \"Comedor\"\n",
        "lunas = 7 \n",
        "motores = \"4\""
      ],
      "metadata": {
        "id": "FI3E-gX5-j0W"
      },
      "execution_count": null,
      "outputs": []
    },
    {
      "cell_type": "markdown",
      "source": [
        "**Ejercicio E5.3.**"
      ],
      "metadata": {
        "id": "u_0mr_Ln-lTT"
      }
    },
    {
      "cell_type": "code",
      "source": [
        "edad gato = 7\n",
        "Correo_electronico = \"prueba@gmail.com\"\n",
        "copiaCorreo = Correo_electronico"
      ],
      "metadata": {
        "id": "8apnNN57-oLd"
      },
      "execution_count": null,
      "outputs": []
    }
  ]
}