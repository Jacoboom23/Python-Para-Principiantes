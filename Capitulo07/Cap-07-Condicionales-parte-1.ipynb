{
  "nbformat": 4,
  "nbformat_minor": 0,
  "metadata": {
    "colab": {
      "provenance": []
    },
    "kernelspec": {
      "name": "python3",
      "display_name": "Python 3"
    },
    "language_info": {
      "name": "python"
    }
  },
  "cells": [
    {
      "cell_type": "markdown",
      "source": [
        "**Ejercicio área cuadrado**"
      ],
      "metadata": {
        "id": "yLjIkr6UWhYR"
      }
    },
    {
      "cell_type": "code",
      "execution_count": null,
      "metadata": {
        "id": "mWVAcgnKWcjJ"
      },
      "outputs": [],
      "source": [
        "lado = float(input(\"Ingrese el lado del cuadrado: \"))\n",
        "area = lado*lado\n",
        "print(\"El área del cuadrado es: \"+str(area))"
      ]
    },
    {
      "cell_type": "markdown",
      "source": [
        "**Variables booleanas**"
      ],
      "metadata": {
        "id": "G45_UpYrWnfI"
      }
    },
    {
      "cell_type": "code",
      "source": [
        "tengoHijos = True\n",
        "print(type(tengoHijos))\n",
        "print(tengoHijos)"
      ],
      "metadata": {
        "id": "AaKyv3-vWoOY"
      },
      "execution_count": null,
      "outputs": []
    },
    {
      "cell_type": "markdown",
      "source": [
        "**Ejemplo de código para estructura if-then**"
      ],
      "metadata": {
        "id": "J-QJ5R3IWt85"
      }
    },
    {
      "cell_type": "code",
      "source": [
        "temperatura = float(input(\"Ingrese la temperatura: \"))\n",
        "\n",
        "if(temperatura > 27):\n",
        "  print(\"Comprar helado\")\n",
        "\n",
        "print(\"Fin programa\")"
      ],
      "metadata": {
        "id": "zuttByreWupw"
      },
      "execution_count": null,
      "outputs": []
    },
    {
      "cell_type": "markdown",
      "source": [
        "**Ejercicio malteada (erróneo)**"
      ],
      "metadata": {
        "id": "mrpXcMwAW0y_"
      }
    },
    {
      "cell_type": "code",
      "source": [
        "temperatura = float(input(\"Ingrese la temperatura: \"))\n",
        "\n",
        "if(temperatura > 27):\n",
        "  print(\"Comprar helado\")\n",
        "print(\"Comprar malteada\")\n",
        "\n",
        "print(\"Fin programa\")"
      ],
      "metadata": {
        "id": "AHazZq_dW41Q"
      },
      "execution_count": null,
      "outputs": []
    },
    {
      "cell_type": "markdown",
      "source": [
        "**Ejercicio malteada**"
      ],
      "metadata": {
        "id": "CU5oUIU1W6_B"
      }
    },
    {
      "cell_type": "code",
      "source": [
        "temperatura = float(input(\"Ingrese la temperatura: \"))\n",
        "\n",
        "if(temperatura > 27):\n",
        "  print(\"Comprar helado\")\n",
        "  print(\"Comprar malteada\")\n",
        "\n",
        "print(\"Fin programa\")"
      ],
      "metadata": {
        "id": "D1kxe_2AW-Wi"
      },
      "execution_count": null,
      "outputs": []
    },
    {
      "cell_type": "markdown",
      "source": [
        "**Flujo de ejecución del programa**"
      ],
      "metadata": {
        "id": "iYfLk_WMXBly"
      }
    },
    {
      "cell_type": "code",
      "source": [
        "temperatura = float(input(\"Ingrese la temperatura: \"))\n",
        "dinero = int(input(\"Ingrese el dinero: \"))\n",
        "\n",
        "if(temperatura > 27) and (dinero >= 5):\n",
        "  print(\"Comprar helado\")\n",
        "\n",
        "print(\"Fin programa\")"
      ],
      "metadata": {
        "id": "Ak1JJiisXCRh"
      },
      "execution_count": null,
      "outputs": []
    },
    {
      "cell_type": "markdown",
      "source": [
        "**Ejercicio E7.1.**"
      ],
      "metadata": {
        "id": "JfzzX-Cl_0RU"
      }
    },
    {
      "cell_type": "code",
      "source": [
        "entradas = 5\n",
        "if(entradas > 5):\n",
        "  print(\"Tu y tu grupo de amigos pueden ingresar\")\n",
        "print(\"Fin programa\")"
      ],
      "metadata": {
        "id": "bxAAHOwV_17T"
      },
      "execution_count": null,
      "outputs": []
    }
  ]
}