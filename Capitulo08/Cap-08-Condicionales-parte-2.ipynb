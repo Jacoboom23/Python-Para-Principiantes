{
  "nbformat": 4,
  "nbformat_minor": 0,
  "metadata": {
    "colab": {
      "provenance": []
    },
    "kernelspec": {
      "name": "python3",
      "display_name": "Python 3"
    },
    "language_info": {
      "name": "python"
    }
  },
  "cells": [
    {
      "cell_type": "markdown",
      "source": [
        "**Ejemplo de código para estructura if-then-else**"
      ],
      "metadata": {
        "id": "TkYUHZhpXtD5"
      }
    },
    {
      "cell_type": "code",
      "execution_count": null,
      "metadata": {
        "id": "q7Lepz6HXoCA"
      },
      "outputs": [],
      "source": [
        "temperatura = float(input(\"Ingrese la temperatura: \"))\n",
        "\n",
        "if(temperatura > 27):\n",
        "  print(\"Comprar helado\")\n",
        "else:\n",
        "  print(\"Comprar jugo de naranja\")\n",
        "\n",
        "print(\"Fin programa\")"
      ]
    },
    {
      "cell_type": "markdown",
      "source": [
        "**Ejercicio área del cuadrado**"
      ],
      "metadata": {
        "id": "cklCqwSBXwRB"
      }
    },
    {
      "cell_type": "code",
      "source": [
        "lado = float(input(\"Ingrese el lado del cuadrado: \"))\n",
        "\n",
        "if(lado > 0):\n",
        "  area = lado*lado\n",
        "  print(\"El área del cuadrado es: \"+str(area))\n",
        "else:\n",
        "  print(\"El lado de un cuadrado no puede ser negativo\")"
      ],
      "metadata": {
        "id": "Bs_miabYXw4A"
      },
      "execution_count": null,
      "outputs": []
    },
    {
      "cell_type": "markdown",
      "source": [
        "**Ejemplo de código para estructura if-then-elif-else**"
      ],
      "metadata": {
        "id": "sANkGwmSX1Ip"
      }
    },
    {
      "cell_type": "code",
      "source": [
        "temperatura = float(input(\"Ingrese la temperatura: \"))\n",
        "\n",
        "if(temperatura > 27):\n",
        "  print(\"Comprar helado\")\n",
        "elif(temperatura < 15):\n",
        "  print(\"Comprar chocolate\")\n",
        "else:\n",
        "  print(\"Comprar jugo de naranja\")\n",
        "\n",
        "print(\"Fin programa\")"
      ],
      "metadata": {
        "id": "pz2N36E8X15J"
      },
      "execution_count": null,
      "outputs": []
    },
    {
      "cell_type": "markdown",
      "source": [
        "**Importancia del orden de las condiciones**"
      ],
      "metadata": {
        "id": "d0uGNHtuX4kD"
      }
    },
    {
      "cell_type": "code",
      "source": [
        "edad = int(input(\"Ingrese su edad: \"))\n",
        "\n",
        "if(edad >= 18):\n",
        "  print(\"Mayor de edad\")\n",
        "elif(edad >= 60):\n",
        "  print(\"Adulto mayor\")"
      ],
      "metadata": {
        "id": "U7BuNBvQX5OC"
      },
      "execution_count": null,
      "outputs": []
    },
    {
      "cell_type": "markdown",
      "source": [
        "**Ejemplo de código para ejercicio “parque de diversiones”**"
      ],
      "metadata": {
        "id": "Ls5caNsIX8PZ"
      }
    },
    {
      "cell_type": "code",
      "source": [
        "tipoAtraccion = int(input(\"Ingrese el tipo 1) montaña 2) tren: \"))\n",
        "\n",
        "if(tipoAtraccion == 1):\n",
        "  estatura = float(input(\"Ingrese su estatura: \"))\n",
        "  if(estatura >= 1.61):\n",
        "    print(\"Diviértete en la montaña rusa\")\n",
        "  else:\n",
        "    print(\"Estatura no permitida\")\n",
        "elif(tipoAtraccion == 2):\n",
        "  print(\"Diviértete en el tren\")\n",
        "\n",
        "print(\"Fin programa\")"
      ],
      "metadata": {
        "id": "rcrwZxR9X8-K"
      },
      "execution_count": null,
      "outputs": []
    },
    {
      "cell_type": "markdown",
      "source": [
        "**Ejemplo de código para ejercicio “parque de diversiones” (sin condicionales anidados)**"
      ],
      "metadata": {
        "id": "cGNonsmGYDL6"
      }
    },
    {
      "cell_type": "code",
      "source": [
        "tipoAtraccion = int(input(\"Ingrese el tipo 1) montaña 2) tren: \"))\n",
        "estatura = float(input(\"Ingrese su estatura: \"))\n",
        "\n",
        "if(tipoAtraccion == 2):\n",
        "  print(\"Diviértete en el tren\")\n",
        "elif(tipoAtraccion == 1 and estatura >= 1.61):\n",
        "  print(\"Diviértete en la montaña rusa\")\n",
        "elif(tipoAtraccion == 1 and estatura < 1.61):\n",
        "  print(\"Estatura no permitida\")\n",
        "\n",
        "print(\"Fin programa\")"
      ],
      "metadata": {
        "id": "P0qYleTpYF_7"
      },
      "execution_count": null,
      "outputs": []
    },
    {
      "cell_type": "markdown",
      "source": [
        "**Ejercicio E8.1.**"
      ],
      "metadata": {
        "id": "s8LXvL6IAY71"
      }
    },
    {
      "cell_type": "code",
      "source": [
        "estrellas = 2\n",
        "if(entradas > 3):\n",
        "  print(\"Que buen servicio\")\n",
        "else:\n",
        "  print(\"Que mal servicio\")\n",
        "print(\"Fin programa\")"
      ],
      "metadata": {
        "id": "deOrToLgAbfN"
      },
      "execution_count": null,
      "outputs": []
    },
    {
      "cell_type": "markdown",
      "source": [
        "**Ejercicio E8.3.**"
      ],
      "metadata": {
        "id": "F4DN2elYAbqt"
      }
    },
    {
      "cell_type": "code",
      "source": [
        "pinturaDerramada = 20\n",
        "if(pinturaDerramada >= 15):\n",
        "  print(\"¿Qué es esooo?\")\n",
        "elif(pinturaDerramada > 0):\n",
        "  print(\"Podrías mejorar\")\n",
        "else:\n",
        "  print(\"Tienes talento\")\n",
        "print(\"Fin programa\")"
      ],
      "metadata": {
        "id": "jO6jnXABAc5e"
      },
      "execution_count": null,
      "outputs": []
    }
  ]
}