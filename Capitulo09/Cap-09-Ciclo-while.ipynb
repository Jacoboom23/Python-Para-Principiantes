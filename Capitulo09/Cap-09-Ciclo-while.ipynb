{
  "nbformat": 4,
  "nbformat_minor": 0,
  "metadata": {
    "colab": {
      "provenance": []
    },
    "kernelspec": {
      "name": "python3",
      "display_name": "Python 3"
    },
    "language_info": {
      "name": "python"
    }
  },
  "cells": [
    {
      "cell_type": "markdown",
      "source": [
        "**Introducción**"
      ],
      "metadata": {
        "id": "cXLCLMi4Yjd8"
      }
    },
    {
      "cell_type": "code",
      "execution_count": null,
      "metadata": {
        "id": "L87SIsJxYi5v"
      },
      "outputs": [],
      "source": [
        "print(\"Bienvenido a Python\")\n",
        "print(\"Bienvenido a Python\")\n",
        "print(\"Bienvenido a Python\")"
      ]
    },
    {
      "cell_type": "markdown",
      "source": [
        "**Ciclo while**"
      ],
      "metadata": {
        "id": "1ZbOaMNbYrXz"
      }
    },
    {
      "cell_type": "code",
      "source": [
        "i = 1\n",
        "while(i <= 3):\n",
        "  print(\"Bienvenido a Python\")\n",
        "  i = i+1\n",
        "\n",
        "print(\"Fin programa\")"
      ],
      "metadata": {
        "id": "EFb1Zc5yYspq"
      },
      "execution_count": null,
      "outputs": []
    },
    {
      "cell_type": "markdown",
      "source": [
        "**Ejemplo de ciclo while con seguimiento paso a paso**"
      ],
      "metadata": {
        "id": "u3TGfHjIYxG6"
      }
    },
    {
      "cell_type": "code",
      "source": [
        "i = 1\n",
        "while(i <= 5):\n",
        "  print(i)\n",
        "  i = i+1\n",
        "\n",
        "print(\"Fin programa\")"
      ],
      "metadata": {
        "id": "yFpeDLjuYxty"
      },
      "execution_count": null,
      "outputs": []
    },
    {
      "cell_type": "markdown",
      "source": [
        "**Ejercicio 1**"
      ],
      "metadata": {
        "id": "ZCS9KKFUY1lj"
      }
    },
    {
      "cell_type": "code",
      "source": [
        "i = 5\n",
        "while(i <= 25):\n",
        "  print(i)\n",
        "  i = i+5"
      ],
      "metadata": {
        "id": "s8FtNuPUY2Lq"
      },
      "execution_count": null,
      "outputs": []
    },
    {
      "cell_type": "markdown",
      "source": [
        "**Ejercicio 2**"
      ],
      "metadata": {
        "id": "S3R-ovZtY4fT"
      }
    },
    {
      "cell_type": "code",
      "source": [
        "i = 10\n",
        "while(i >= 0):\n",
        "  print(i)\n",
        "  i = i-1"
      ],
      "metadata": {
        "id": "JwRwxE_gY6Rj"
      },
      "execution_count": null,
      "outputs": []
    },
    {
      "cell_type": "markdown",
      "source": [
        "**Ejercicio 3**"
      ],
      "metadata": {
        "id": "97emnT_U4a-7"
      }
    },
    {
      "cell_type": "code",
      "source": [
        "numero = int(input(\"Ingrese un número: \"))\n",
        "i = 1\n",
        "while(i <= numero):\n",
        "  print(\"Python es divertido\")\n",
        "  i = i+1"
      ],
      "metadata": {
        "id": "9JkJbcIZ4ciM"
      },
      "execution_count": null,
      "outputs": []
    },
    {
      "cell_type": "markdown",
      "source": [
        "**Error 1**"
      ],
      "metadata": {
        "id": "D_7Zv8BWY8GD"
      }
    },
    {
      "cell_type": "code",
      "source": [
        "i = 1\n",
        "while(i <= 5):\n",
        "  print(i)"
      ],
      "metadata": {
        "id": "2iKfC_tCY9IL"
      },
      "execution_count": null,
      "outputs": []
    },
    {
      "cell_type": "markdown",
      "source": [
        "**Error 2**"
      ],
      "metadata": {
        "id": "ew_dBSrSY-10"
      }
    },
    {
      "cell_type": "code",
      "source": [
        "i = 1\n",
        "while(i <= 5):\n",
        "  print(i)\n",
        "i = i+1"
      ],
      "metadata": {
        "id": "MrSLZhuaZAck"
      },
      "execution_count": null,
      "outputs": []
    },
    {
      "cell_type": "markdown",
      "source": [
        "**Error 3**"
      ],
      "metadata": {
        "id": "cbtk31X2ZBvT"
      }
    },
    {
      "cell_type": "code",
      "source": [
        "i = 1\n",
        "while(i >= 0):\n",
        "  print(i)\n",
        "  i = i+1"
      ],
      "metadata": {
        "id": "upCUkY-KZC7T"
      },
      "execution_count": null,
      "outputs": []
    },
    {
      "cell_type": "markdown",
      "source": [
        "**Ciclos controlados por valor centinela**"
      ],
      "metadata": {
        "id": "h8CXY64CZGJz"
      }
    },
    {
      "cell_type": "code",
      "source": [
        "nombre = \"\"\n",
        "while(nombre != \"Daniel\"):\n",
        "  nombre = input(\"Ingrese su nombre: \")\n",
        "\n",
        "print(\"Bienvenido\")"
      ],
      "metadata": {
        "id": "LXJyjMeGZG9N"
      },
      "execution_count": null,
      "outputs": []
    },
    {
      "cell_type": "markdown",
      "source": [
        "**Instrucción break**"
      ],
      "metadata": {
        "id": "m1bLdjiuZJZ8"
      }
    },
    {
      "cell_type": "code",
      "source": [
        "while(True):\n",
        "  capital = input(\"Ingrese la capital de Perú: \")\n",
        "  if(capital == \"Lima\"):\n",
        "    print(\"Felicidades ganaste la trivia\")\n",
        "    break\n",
        "\n",
        "print(\"Fin programa\")"
      ],
      "metadata": {
        "id": "LIx5Hk2WZJ88"
      },
      "execution_count": null,
      "outputs": []
    },
    {
      "cell_type": "markdown",
      "source": [
        "**Ejercicio E9.1.**"
      ],
      "metadata": {
        "id": "AuPadaw0BFcG"
      }
    },
    {
      "cell_type": "code",
      "source": [
        "i = 1\n",
        "while(i < 3):\n",
        "  print(i)\n",
        "  i = i+1\n",
        "print(\"Fin programa\")"
      ],
      "metadata": {
        "id": "rG6rxtE_BHbN"
      },
      "execution_count": null,
      "outputs": []
    },
    {
      "cell_type": "markdown",
      "source": [
        "**Ejercicio E9.3.**"
      ],
      "metadata": {
        "id": "pugjZo9kBHpu"
      }
    },
    {
      "cell_type": "code",
      "source": [
        "i = int(input(\"Ingrese un número: \"))\n",
        "while(i <= 6):\n",
        "  print(i)\n",
        "  i = i+3"
      ],
      "metadata": {
        "id": "_cMUEZNrBKXV"
      },
      "execution_count": null,
      "outputs": []
    }
  ]
}