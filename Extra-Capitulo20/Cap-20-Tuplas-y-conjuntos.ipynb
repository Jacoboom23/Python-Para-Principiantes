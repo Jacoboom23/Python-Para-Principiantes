{
  "nbformat": 4,
  "nbformat_minor": 0,
  "metadata": {
    "colab": {
      "provenance": []
    },
    "kernelspec": {
      "name": "python3",
      "display_name": "Python 3"
    },
    "language_info": {
      "name": "python"
    }
  },
  "cells": [
    {
      "cell_type": "markdown",
      "source": [
        "**Definición de una tupla**"
      ],
      "metadata": {
        "id": "ocuTGxfBL09S"
      }
    },
    {
      "cell_type": "code",
      "execution_count": null,
      "metadata": {
        "id": "rw9XUXUyLnN_"
      },
      "outputs": [],
      "source": [
        "edades = (28, 67, 40, 15)"
      ]
    },
    {
      "cell_type": "code",
      "source": [
        "colores = (\"Amarillo\", \"Azul\", \"Rojo\")\n",
        "print(colores)\n",
        "print(type(colores))"
      ],
      "metadata": {
        "id": "JmPjUNzpL49a"
      },
      "execution_count": null,
      "outputs": []
    },
    {
      "cell_type": "markdown",
      "source": [
        "**Operaciones con tuplas**"
      ],
      "metadata": {
        "id": "W9sU-t5JL7hq"
      }
    },
    {
      "cell_type": "code",
      "source": [
        "jugadores = (\"Cristiano\", \"Messi\", \"Díaz\", \"Mbappé\")\n",
        "print(jugadores[0])\n",
        "print(jugadores[len(jugadores)-1])"
      ],
      "metadata": {
        "id": "L6lVsb_GL8E7"
      },
      "execution_count": null,
      "outputs": []
    },
    {
      "cell_type": "markdown",
      "source": [
        "**Operación no permitida**"
      ],
      "metadata": {
        "id": "scd3H3kdMUxb"
      }
    },
    {
      "cell_type": "code",
      "source": [
        "jugadores = (\"Cristiano\", \"Messi\", \"Díaz\", \"Mbappé\")\n",
        "jugadores[0] = \"Haaland\""
      ],
      "metadata": {
        "id": "X2mfBhJSMVWj"
      },
      "execution_count": null,
      "outputs": []
    },
    {
      "cell_type": "markdown",
      "source": [
        "**Definición de un conjunto**"
      ],
      "metadata": {
        "id": "Gwoel1h-MYEj"
      }
    },
    {
      "cell_type": "code",
      "source": [
        "edades = {28, 67, 40, 15}"
      ],
      "metadata": {
        "id": "Fj5ZlLsfMX3j"
      },
      "execution_count": null,
      "outputs": []
    },
    {
      "cell_type": "code",
      "source": [
        "planetas = {\"Tierra\", \"Marte\", \"Urano\", \"Urano\"}\n",
        "print(planetas)\n",
        "print(type(planetas))"
      ],
      "metadata": {
        "id": "Toe6HlqEMcTy"
      },
      "execution_count": null,
      "outputs": []
    },
    {
      "cell_type": "markdown",
      "source": [
        "**Acceder a elementos de un conjunto (error)**\n",
        "\n"
      ],
      "metadata": {
        "id": "EZDSEuS4MaU0"
      }
    },
    {
      "cell_type": "code",
      "source": [
        "planetas = {\"Tierra\", \"Marte\", \"Urano\", \"Urano\"}\n",
        "print(planetas[0])"
      ],
      "metadata": {
        "id": "LJx1VpTOMgFD"
      },
      "execution_count": null,
      "outputs": []
    },
    {
      "cell_type": "markdown",
      "source": [
        "**Acceder a elementos de un conjunto**"
      ],
      "metadata": {
        "id": "_Y4esD5lMkMy"
      }
    },
    {
      "cell_type": "code",
      "source": [
        "planetas = {\"Tierra\", \"Marte\", \"Urano\"}\n",
        "for planeta in planetas:\n",
        "  print(planeta)"
      ],
      "metadata": {
        "id": "l9vKaeGAMkjL"
      },
      "execution_count": null,
      "outputs": []
    },
    {
      "cell_type": "markdown",
      "source": [
        "**Agregar elementos a un conjunto**"
      ],
      "metadata": {
        "id": "tXWi8PjwMomz"
      }
    },
    {
      "cell_type": "code",
      "source": [
        "planetas = {\"Tierra\", \"Marte\", \"Urano\"}\n",
        "planetas.add(\"Jupiter\")\n",
        "print(planetas)"
      ],
      "metadata": {
        "id": "pEwC1O1BMpHc"
      },
      "execution_count": null,
      "outputs": []
    },
    {
      "cell_type": "markdown",
      "source": [
        "**Eliminar elementos de un conjunto**"
      ],
      "metadata": {
        "id": "oRmCuktMMrGr"
      }
    },
    {
      "cell_type": "code",
      "source": [
        "planetas = {\"Tierra\", \"Marte\", \"Urano\"}\n",
        "planetas.remove(\"Tierra\")\n",
        "print(planetas)"
      ],
      "metadata": {
        "id": "9KT9TR-WMrpj"
      },
      "execution_count": null,
      "outputs": []
    }
  ]
}